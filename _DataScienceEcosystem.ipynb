{
 "cells": [
  {
   "cell_type": "markdown",
   "id": "528a1eda-3a92-4c24-b346-0803636101f4",
   "metadata": {},
   "source": [
    "# Data Science Tools and Ecosystem"
   ]
  },
  {
   "cell_type": "markdown",
   "id": "5377f62a-707a-49e9-9bbf-2cc18e42171d",
   "metadata": {},
   "source": [
    "In this notebook, Data Science Tools and Ecosystem are summarized."
   ]
  },
  {
   "cell_type": "markdown",
   "id": "8010d4e6-cd09-4402-a0be-d3ac079cbb34",
   "metadata": {},
   "source": [
    "Some of the popular languages that Data Scientists use are:\n",
    "    1. R\n",
    "    2. Python\n",
    "    3. SQL"
   ]
  },
  {
   "cell_type": "markdown",
   "id": "4a1a48da-1beb-4675-a357-a3ed1209d37b",
   "metadata": {},
   "source": [
    "Some of the popular libraries that Data Scientists use are:\n",
    "    1. Pandas\n",
    "    2. Numpy\n",
    "    3. Matplotlib"
   ]
  },
  {
   "cell_type": "markdown",
   "id": "0553879f-26c6-4e36-ad6d-4f1c6c420f39",
   "metadata": {},
   "source": [
    "Data Science Tools\n",
    "JupyterLab\n",
    "Git"
   ]
  },
  {
   "cell_type": "markdown",
   "id": "39ced684-0812-4a5e-96a5-734020bf6cba",
   "metadata": {},
   "source": [
    "### Below are a few examples of evaluating arithmetic expressions in Python"
   ]
  },
  {
   "cell_type": "code",
   "execution_count": 5,
   "id": "68c0fe04-5437-4a1d-aac2-0a6effcab0da",
   "metadata": {},
   "outputs": [
    {
     "data": {
      "text/plain": [
       "17"
      ]
     },
     "execution_count": 5,
     "metadata": {},
     "output_type": "execute_result"
    }
   ],
   "source": [
    "#This a simple arithmetic expression to mutiply then add integers\n",
    "(3*4)+5"
   ]
  },
  {
   "cell_type": "code",
   "execution_count": 7,
   "id": "2bb3f342-0798-4ce7-b8a8-c6b5c691fd0d",
   "metadata": {},
   "outputs": [
    {
     "data": {
      "text/plain": [
       "3.3333333333333335"
      ]
     },
     "execution_count": 7,
     "metadata": {},
     "output_type": "execute_result"
    }
   ],
   "source": [
    "#This will convert 200 minutes to hours by dividing by 60\n",
    "200/60"
   ]
  },
  {
   "cell_type": "markdown",
   "id": "f1890453-12a6-4c25-9f38-beac216fd16b",
   "metadata": {},
   "source": [
    "Objectives:\n",
    "    -List Popular libraries used by Data Scientists\n",
    "    -Add and multiply integers using python\n",
    "    -Divid integers using python"
   ]
  },
  {
   "cell_type": "markdown",
   "id": "27913d6f-269c-4c96-99dc-ffb71bed58f9",
   "metadata": {},
   "source": [
    "## Author\n",
    "Foladayo Akinbi"
   ]
  }
 ],
 "metadata": {
  "kernelspec": {
   "display_name": "Python 3 (ipykernel)",
   "language": "python",
   "name": "python3"
  },
  "language_info": {
   "codemirror_mode": {
    "name": "ipython",
    "version": 3
   },
   "file_extension": ".py",
   "mimetype": "text/x-python",
   "name": "python",
   "nbconvert_exporter": "python",
   "pygments_lexer": "ipython3",
   "version": "3.12.7"
  }
 },
 "nbformat": 4,
 "nbformat_minor": 5
}
